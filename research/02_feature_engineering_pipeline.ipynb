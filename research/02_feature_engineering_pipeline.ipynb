{
 "cells": [
  {
   "cell_type": "code",
   "execution_count": 6,
   "id": "7b96e88c",
   "metadata": {},
   "outputs": [],
   "source": [
    "import os"
   ]
  },
  {
   "cell_type": "code",
   "execution_count": 7,
   "id": "4abe407d",
   "metadata": {},
   "outputs": [
    {
     "data": {
      "text/plain": [
       "'/Users/satwik/Downloads/MLproj/airlines_sentiment_classification/research'"
      ]
     },
     "execution_count": 7,
     "metadata": {},
     "output_type": "execute_result"
    }
   ],
   "source": [
    "pwd"
   ]
  },
  {
   "cell_type": "code",
   "execution_count": 11,
   "id": "4e9bd476",
   "metadata": {},
   "outputs": [],
   "source": [
    "import os\n",
    "os.chdir(\"../\")"
   ]
  },
  {
   "cell_type": "code",
   "execution_count": 12,
   "id": "5e7179f5",
   "metadata": {},
   "outputs": [
    {
     "data": {
      "text/plain": [
       "'/Users/satwik/Downloads/MLproj/airlines_sentiment_classification'"
      ]
     },
     "execution_count": 12,
     "metadata": {},
     "output_type": "execute_result"
    }
   ],
   "source": [
    "%pwd"
   ]
  },
  {
   "cell_type": "code",
   "execution_count": 13,
   "id": "40d3557f",
   "metadata": {},
   "outputs": [],
   "source": [
    "from dataclasses import dataclass\n",
    "from pathlib import Path\n",
    "\n",
    "\n",
    "@dataclass(frozen=True)\n",
    "class DataPreprocessingConfig:\n",
    "    root_dir: Path\n",
    "    training_data_path : Path\n",
    "    training_data_file : Path\n",
    "    training_cleansed_data : Path\n",
    "    # base_model_path: Path\n",
    "    # updated_base_model_path: Path\n",
    "    # # params_image_size: \n",
    "    # num_train_epochs: int\n",
    "    # per_device_train_batch_size: int\n",
    "    # per_device_eval_batch_size: int\n",
    "    # warmup_steps: int\n",
    "    # weight_decay: float\n",
    "    # # logging_dir: Path\n",
    "    # max_steps: int\n",
    "    # save_steps: int\n",
    "    # logging_steps: int\n",
    "\n"
   ]
  },
  {
   "cell_type": "code",
   "execution_count": 14,
   "id": "f05ed6a4",
   "metadata": {},
   "outputs": [],
   "source": [
    "from pathlib import Path\n",
    "\n",
    "CONFIG_FILE_PATH = Path(\"/Users/satwik/Downloads/MLproj/airlines_sentiment_classification/config/config.yaml\")\n",
    "PARAMS_FILE_PATH = Path(\"/Users/satwik/Downloads/MLproj/airlines_sentiment_classification/params.yaml\")"
   ]
  },
  {
   "cell_type": "code",
   "execution_count": 15,
   "id": "a333a738",
   "metadata": {},
   "outputs": [],
   "source": [
    "from src.airlinesSentiment.constants import *\n",
    "from src.airlinesSentiment.utils.common import read_yaml, create_directories"
   ]
  },
  {
   "cell_type": "code",
   "execution_count": 16,
   "id": "faee9fab",
   "metadata": {},
   "outputs": [],
   "source": [
    "class ConfigurationManager:\n",
    "    def __init__(\n",
    "            self,\n",
    "            config_filepath = CONFIG_FILE_PATH,\n",
    "            params_filepath = PARAMS_FILE_PATH):\n",
    "\n",
    "            self.config = read_yaml(config_filepath)\n",
    "            self.params = read_yaml(params_filepath)\n",
    "\n",
    "            create_directories([self.config.artifacts_root])\n",
    "    \n",
    "    def get_data_preprocessing_config(self) -> DataPreprocessingConfig:\n",
    "        config = self.config.feature_engineering\n",
    "\n",
    "        create_directories([config.root_dir])\n",
    "\n",
    "        data_preprocessing_config = DataPreprocessingConfig(\n",
    "             root_dir=config.root_dir,\n",
    "             training_data_path=config.training_data_path,\n",
    "             training_data_file=config.training_data_file,\n",
    "             training_cleansed_data=config.training_cleansed_data\n",
    "        )\n",
    "\n",
    "        return data_preprocessing_config\n",
    "\n",
    "\n",
    "        # prepare_base_model_config = PrepareBaseModelConfig(\n",
    "        #     root_dir=Path(config.root_dir),\n",
    "        #     base_model_path=Path(config.base_model_path),\n",
    "        #     updated_base_model_path=Path(config.updated_base_model_path),\n",
    "        #     num_train_epochs=self.params.EPOCH,\n",
    "        #     per_device_train_batch_size=self.params.TRAIN_BATCH_SIZE,\n",
    "        #     per_device_eval_batch_size=self.params.EVAL_BATCH_SIZE,\n",
    "        #     warmup_steps=self.params.WARMUP_STEPS,\n",
    "        #     weight_decay=self.params.WEIGHT_DECAY,\n",
    "        #     max_steps=self.params.MAX_STEPS,\n",
    "        #     save_steps=self.params.SAVE_STEPS,\n",
    "        #     logging_steps=self.params.LOGGIN_STEPS\n",
    "        # )\n",
    "\n",
    "        # return prepare_base_model_config"
   ]
  },
  {
   "cell_type": "code",
   "execution_count": null,
   "id": "707f396b",
   "metadata": {},
   "outputs": [],
   "source": [
    "import os\n",
    "from airlinesSentiment import logger\n",
    "from airlinesSentiment.utils.common import get_size\n",
    "import gdown\n",
    "import spacy\n",
    "import urllib.request as request\n",
    "from zipfile import ZipFile\n",
    "import tensorflow as tf\n",
    "from nltk.corpus import stopwords\n",
    "import string\n",
    "import pandas as pd\n",
    "from transformers import AutoTokenizer\n",
    "from sklearn.model_selection import train_test_split\n",
    "\n",
    "logger = logging.getLogger(__name__)\n",
    "\n",
    "\n",
    "\n",
    "class \n",
    "\n",
    "\n"
   ]
  },
  {
   "cell_type": "code",
   "execution_count": null,
   "id": "03087202",
   "metadata": {},
   "outputs": [],
   "source": [
    "# class DataPreprocessing:\n",
    "#     def __init__(self, config: Datapreprosessing):\n",
    "#         self.config = config"
   ]
  },
  {
   "cell_type": "code",
   "execution_count": null,
   "id": "febe9caa",
   "metadata": {},
   "outputs": [],
   "source": [
    "# class PrepareBaseModel:\n",
    "#     def __init__(self, config: PrepareBaseModelConfig):\n",
    "#         self.config = config"
   ]
  }
 ],
 "metadata": {
  "kernelspec": {
   "display_name": "llm_envv",
   "language": "python",
   "name": "python3"
  },
  "language_info": {
   "codemirror_mode": {
    "name": "ipython",
    "version": 3
   },
   "file_extension": ".py",
   "mimetype": "text/x-python",
   "name": "python",
   "nbconvert_exporter": "python",
   "pygments_lexer": "ipython3",
   "version": "3.12.9"
  }
 },
 "nbformat": 4,
 "nbformat_minor": 5
}
